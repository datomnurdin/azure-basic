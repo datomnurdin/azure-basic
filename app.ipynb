{
 "cells": [
  {
   "cell_type": "code",
   "execution_count": 1,
   "metadata": {},
   "outputs": [],
   "source": [
    "import gspread\n",
    "import pandas as pd\n",
    "from oauth2client.service_account import ServiceAccountCredentials"
   ]
  },
  {
   "cell_type": "code",
   "execution_count": 2,
   "metadata": {},
   "outputs": [],
   "source": [
    "scope = ['https://spreadsheets.google.com/feeds', 'https://www.googleapis.com/auth/drive']\n",
    "creds = ServiceAccountCredentials.from_json_keyfile_name('deepagi-e2f97-18372dae3cf2.json', scope)\n",
    "client = gspread.authorize(creds)"
   ]
  },
  {
   "cell_type": "code",
   "execution_count": 3,
   "metadata": {},
   "outputs": [],
   "source": [
    "sheet = client.open('DEEPAGI CRM')\n",
    "sheet_instance = sheet.get_worksheet(0)"
   ]
  },
  {
   "cell_type": "code",
   "execution_count": 4,
   "metadata": {},
   "outputs": [
    {
     "name": "stdout",
     "output_type": "stream",
     "text": [
      "[{'Name': 'Wong Khan Soo', 'Phone': '605-842 8588', 'Email': 'wongkoo@gmail.com', 'Date of last contact': '15/1/2021', 'Status': 'ACTIVE'}, {'Name': 'Mohammed Haji Mazmin Azraai bin Syed Rosnan', 'Phone': '609-422 3081', 'Email': 'mohanan@gmail.com', 'Date of last contact': '15/1/2021', 'Status': 'ACTIVE'}, {'Name': 'Fasehah binti Nordin', 'Phone': '6015-546 9515', 'Email': 'fasehin@gmail.com', 'Date of last contact': '15/1/2021', 'Status': 'ACTIVE'}, {'Name': 'Khasri Arif bin Hafizhan', 'Phone': '607-974 4939', 'Email': 'khasan@gmail.com', 'Date of last contact': '15/1/2021', 'Status': 'ACTIVE'}, {'Name': 'Nor Shafiqa binti Che Nasri', 'Phone': '607-956 8207', 'Email': 'norsri@gmail.com', 'Date of last contact': '15/1/2021', 'Status': 'ACTIVE'}, {'Name': 'Param a/l Kuhan Kandasamy', 'Phone': '6015-926 1778', 'Email': 'paramaamy@gmail.com', 'Date of last contact': '15/1/2021', 'Status': 'ACTIVE'}, {'Name': 'Thun Shar Ngu', 'Phone': '6015-969 6268', 'Email': 'thunsgu@gmail.com', 'Date of last contact': '15/1/2021', 'Status': 'ACTIVE'}, {'Name': 'Nur Syahmimi binti Khairun Safingi', 'Phone': '605-616 8768', 'Email': 'nursyagi@gmail.com', 'Date of last contact': '15/1/2021', 'Status': 'INACTIVE'}, {'Name': 'Azrie Salim', 'Phone': '606-600 5729', 'Email': 'azriesim@gmail.com', 'Date of last contact': '15/1/2021', 'Status': 'INACTIVE'}, {'Name': 'Foong Nai Zed', 'Phone': '6017-348 5115', 'Email': 'foonzed@gmail.com', 'Date of last contact': '15/1/2021', 'Status': 'COLD'}]\n"
     ]
    }
   ],
   "source": [
    "records_data = sheet_instance.get_all_records()\n",
    "print(records_data)"
   ]
  },
  {
   "cell_type": "code",
   "execution_count": 5,
   "metadata": {},
   "outputs": [
    {
     "data": {
      "text/html": [
       "<div>\n",
       "<style scoped>\n",
       "    .dataframe tbody tr th:only-of-type {\n",
       "        vertical-align: middle;\n",
       "    }\n",
       "\n",
       "    .dataframe tbody tr th {\n",
       "        vertical-align: top;\n",
       "    }\n",
       "\n",
       "    .dataframe thead th {\n",
       "        text-align: right;\n",
       "    }\n",
       "</style>\n",
       "<table border=\"1\" class=\"dataframe\">\n",
       "  <thead>\n",
       "    <tr style=\"text-align: right;\">\n",
       "      <th></th>\n",
       "      <th>Name</th>\n",
       "      <th>Phone</th>\n",
       "      <th>Email</th>\n",
       "      <th>Date of last contact</th>\n",
       "      <th>Status</th>\n",
       "    </tr>\n",
       "  </thead>\n",
       "  <tbody>\n",
       "    <tr>\n",
       "      <th>0</th>\n",
       "      <td>Wong Khan Soo</td>\n",
       "      <td>605-842 8588</td>\n",
       "      <td>wongkoo@gmail.com</td>\n",
       "      <td>15/1/2021</td>\n",
       "      <td>ACTIVE</td>\n",
       "    </tr>\n",
       "    <tr>\n",
       "      <th>1</th>\n",
       "      <td>Mohammed Haji Mazmin Azraai bin Syed Rosnan</td>\n",
       "      <td>609-422 3081</td>\n",
       "      <td>mohanan@gmail.com</td>\n",
       "      <td>15/1/2021</td>\n",
       "      <td>ACTIVE</td>\n",
       "    </tr>\n",
       "    <tr>\n",
       "      <th>2</th>\n",
       "      <td>Fasehah binti Nordin</td>\n",
       "      <td>6015-546 9515</td>\n",
       "      <td>fasehin@gmail.com</td>\n",
       "      <td>15/1/2021</td>\n",
       "      <td>ACTIVE</td>\n",
       "    </tr>\n",
       "    <tr>\n",
       "      <th>3</th>\n",
       "      <td>Khasri Arif bin Hafizhan</td>\n",
       "      <td>607-974 4939</td>\n",
       "      <td>khasan@gmail.com</td>\n",
       "      <td>15/1/2021</td>\n",
       "      <td>ACTIVE</td>\n",
       "    </tr>\n",
       "    <tr>\n",
       "      <th>4</th>\n",
       "      <td>Nor Shafiqa binti Che Nasri</td>\n",
       "      <td>607-956 8207</td>\n",
       "      <td>norsri@gmail.com</td>\n",
       "      <td>15/1/2021</td>\n",
       "      <td>ACTIVE</td>\n",
       "    </tr>\n",
       "    <tr>\n",
       "      <th>5</th>\n",
       "      <td>Param a/l Kuhan Kandasamy</td>\n",
       "      <td>6015-926 1778</td>\n",
       "      <td>paramaamy@gmail.com</td>\n",
       "      <td>15/1/2021</td>\n",
       "      <td>ACTIVE</td>\n",
       "    </tr>\n",
       "    <tr>\n",
       "      <th>6</th>\n",
       "      <td>Thun Shar Ngu</td>\n",
       "      <td>6015-969 6268</td>\n",
       "      <td>thunsgu@gmail.com</td>\n",
       "      <td>15/1/2021</td>\n",
       "      <td>ACTIVE</td>\n",
       "    </tr>\n",
       "    <tr>\n",
       "      <th>7</th>\n",
       "      <td>Nur Syahmimi binti Khairun Safingi</td>\n",
       "      <td>605-616 8768</td>\n",
       "      <td>nursyagi@gmail.com</td>\n",
       "      <td>15/1/2021</td>\n",
       "      <td>INACTIVE</td>\n",
       "    </tr>\n",
       "    <tr>\n",
       "      <th>8</th>\n",
       "      <td>Azrie Salim</td>\n",
       "      <td>606-600 5729</td>\n",
       "      <td>azriesim@gmail.com</td>\n",
       "      <td>15/1/2021</td>\n",
       "      <td>INACTIVE</td>\n",
       "    </tr>\n",
       "    <tr>\n",
       "      <th>9</th>\n",
       "      <td>Foong Nai Zed</td>\n",
       "      <td>6017-348 5115</td>\n",
       "      <td>foonzed@gmail.com</td>\n",
       "      <td>15/1/2021</td>\n",
       "      <td>COLD</td>\n",
       "    </tr>\n",
       "  </tbody>\n",
       "</table>\n",
       "</div>"
      ],
      "text/plain": [
       "                                          Name          Phone  \\\n",
       "0                                Wong Khan Soo   605-842 8588   \n",
       "1  Mohammed Haji Mazmin Azraai bin Syed Rosnan   609-422 3081   \n",
       "2                         Fasehah binti Nordin  6015-546 9515   \n",
       "3                     Khasri Arif bin Hafizhan   607-974 4939   \n",
       "4                  Nor Shafiqa binti Che Nasri   607-956 8207   \n",
       "5                    Param a/l Kuhan Kandasamy  6015-926 1778   \n",
       "6                                Thun Shar Ngu  6015-969 6268   \n",
       "7           Nur Syahmimi binti Khairun Safingi   605-616 8768   \n",
       "8                                  Azrie Salim   606-600 5729   \n",
       "9                                Foong Nai Zed  6017-348 5115   \n",
       "\n",
       "                 Email Date of last contact    Status  \n",
       "0    wongkoo@gmail.com            15/1/2021    ACTIVE  \n",
       "1    mohanan@gmail.com            15/1/2021    ACTIVE  \n",
       "2    fasehin@gmail.com            15/1/2021    ACTIVE  \n",
       "3     khasan@gmail.com            15/1/2021    ACTIVE  \n",
       "4     norsri@gmail.com            15/1/2021    ACTIVE  \n",
       "5  paramaamy@gmail.com            15/1/2021    ACTIVE  \n",
       "6    thunsgu@gmail.com            15/1/2021    ACTIVE  \n",
       "7   nursyagi@gmail.com            15/1/2021  INACTIVE  \n",
       "8   azriesim@gmail.com            15/1/2021  INACTIVE  \n",
       "9    foonzed@gmail.com            15/1/2021      COLD  "
      ]
     },
     "execution_count": 5,
     "metadata": {},
     "output_type": "execute_result"
    }
   ],
   "source": [
    "records_df = pd.DataFrame.from_dict(records_data)\n",
    "records_df.head(10)"
   ]
  },
  {
   "cell_type": "code",
   "execution_count": null,
   "metadata": {},
   "outputs": [],
   "source": []
  }
 ],
 "metadata": {
  "kernelspec": {
   "display_name": "Python 3",
   "language": "python",
   "name": "python3"
  },
  "language_info": {
   "codemirror_mode": {
    "name": "ipython",
    "version": 3
   },
   "file_extension": ".py",
   "mimetype": "text/x-python",
   "name": "python",
   "nbconvert_exporter": "python",
   "pygments_lexer": "ipython3",
   "version": "3.9.0"
  }
 },
 "nbformat": 4,
 "nbformat_minor": 4
}
